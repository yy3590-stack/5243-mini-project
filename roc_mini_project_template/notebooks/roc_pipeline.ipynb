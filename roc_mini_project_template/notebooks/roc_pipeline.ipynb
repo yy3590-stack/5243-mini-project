{
  "nbformat": 4,
  "nbformat_minor": 5,
  "metadata": {
    "kernelspec": {
      "name": "python3",
      "display_name": "Python 3"
    }
  },
  "cells": [
    {
      "cell_type": "markdown",
      "metadata": {},
      "source": [
        "# ROC Mini\u2011Project (Colab\u2011Ready)\n",
        "End\u2011to\u2011end pipeline: QC \u2192 DR \u2192 Clustering \u2192 Metrics \u2192 Markers \u2192 Denoising \u2192 Integration \u2192 GO.\n",
        "**Fill the TODOs marked with \ud83d\udd27.**\n"
      ]
    },
    {
      "cell_type": "code",
      "metadata": {},
      "source": [
        "# Install packages (Colab)\n",
        "%%bash\n",
        "pip -q install scanpy==1.9.6 anndata umap-learn python-igraph leidenalg scikit-learn gseapy bbknn harmonypy magic-impute mnnpy\n"
      ]
    },
    {
      "cell_type": "code",
      "metadata": {},
      "source": [
        "import scanpy as sc, anndata as ad\n",
        "import numpy as np, pandas as pd\n",
        "import matplotlib.pyplot as plt\n",
        "from sklearn.cluster import KMeans\n",
        "from sklearn.mixture import GaussianMixture\n",
        "from sklearn.metrics import adjusted_rand_score\n",
        "from pathlib import Path\n",
        "import warnings; warnings.filterwarnings('ignore')\n",
        "sc.settings.verbosity = 2\n",
        "sc.set_figure_params(figsize=(4,4), dpi=120)\n",
        "PROJECT_DIR = Path('..').resolve()\n",
        "RESULTS = PROJECT_DIR / 'results'\n",
        "FIGS = RESULTS / 'figs'\n",
        "FIGS.mkdir(parents=True, exist_ok=True)\n",
        "print('Results folder:', FIGS)\n"
      ]
    },
    {
      "cell_type": "markdown",
      "metadata": {},
      "source": [
        "## 1) Load Data\n",
        "\ud83d\udd27 Provide the path to your `.h5ad` file or assemble from 10x mtx files.\n"
      ]
    },
    {
      "cell_type": "code",
      "metadata": {},
      "source": [
        "adata_path = '../data/counts.h5ad'  # \ud83d\udd27 change if needed\n",
        "adata = sc.read_h5ad(adata_path)\n",
        "adata.var_names_make_unique()\n",
        "adata.obs_names_make_unique()\n",
        "adata\n"
      ]
    },
    {
      "cell_type": "markdown",
      "metadata": {},
      "source": [
        "## 2) QC & Normalization\n"
      ]
    },
    {
      "cell_type": "code",
      "metadata": {},
      "source": [
        "adata.var['mt'] = adata.var_names.str.upper().str.startswith(('MT-','MT_'))\n",
        "sc.pp.calculate_qc_metrics(adata, qc_vars=['mt'], inplace=True)\n",
        "min_genes, max_genes = 200, 6000\n",
        "max_mito = 0.15\n",
        "sc.pp.filter_cells(adata, min_genes=min_genes)\n",
        "adata = adata[adata.obs['pct_counts_mt'] < (max_mito*100)].copy()\n",
        "sc.pp.normalize_total(adata, target_sum=1e4)\n",
        "sc.pp.log1p(adata)\n",
        "sc.pp.highly_variable_genes(adata, n_top_genes=3000, flavor='seurat_v3')\n",
        "adata = adata[:, adata.var.highly_variable].copy()\n",
        "adata\n"
      ]
    },
    {
      "cell_type": "markdown",
      "metadata": {},
      "source": [
        "## 3) PCA \u2192 Neighbors \u2192 UMAP\n"
      ]
    },
    {
      "cell_type": "code",
      "metadata": {},
      "source": [
        "sc.pp.scale(adata, max_value=10)\n",
        "sc.tl.pca(adata, n_comps=50, svd_solver='arpack')\n",
        "sc.pp.neighbors(adata, n_neighbors=15, n_pcs=30)\n",
        "sc.tl.umap(adata)\n",
        "sc.pl.umap(adata, color=['n_genes_by_counts','total_counts','pct_counts_mt'])\n"
      ]
    },
    {
      "cell_type": "markdown",
      "metadata": {},
      "source": [
        "## 4) Clustering (\u2265 2 methods)\n"
      ]
    },
    {
      "cell_type": "code",
      "metadata": {},
      "source": [
        "sc.tl.leiden(adata, resolution=1.0, key_added='leiden_1.0')\n",
        "sc.pl.umap(adata, color=['leiden_1.0'], legend_loc='on data')\n",
        "from sklearn.cluster import KMeans\n",
        "km = KMeans(n_clusters=12, random_state=0)\n",
        "adata.obs['kmeans'] = km.fit_predict(adata.obsm['X_pca']).astype(str)\n",
        "sc.pl.umap(adata, color=['kmeans'], legend_loc='on data')\n",
        "adata.write('../results/adata_processed.h5ad')\n"
      ]
    },
    {
      "cell_type": "markdown",
      "metadata": {},
      "source": [
        "## 5) Metrics\n"
      ]
    },
    {
      "cell_type": "code",
      "metadata": {},
      "source": [
        "from src.utils import compute_ari, compute_silhouette, purity_score\n",
        "import pandas as pd\n",
        "metrics = {}\n",
        "embedding = adata.obsm['X_umap']\n",
        "for key in ['leiden_1.0','kmeans']:\n",
        "    metrics[f'silhouette_{key}'] = compute_silhouette(embedding, adata.obs[key])\n",
        "    if 'cell_type' in adata.obs:\n",
        "        metrics[f'ari_{key}'] = compute_ari(adata.obs['cell_type'], adata.obs[key])\n",
        "        metrics[f'purity_{key}'] = purity_score(adata.obs['cell_type'], adata.obs[key])\n",
        "pd.Series(metrics).to_csv('../results/metrics.csv')\n",
        "metrics\n"
      ]
    },
    {
      "cell_type": "markdown",
      "metadata": {},
      "source": [
        "## 6) Marker Selection (Wilcoxon & Logistic Regression)\n"
      ]
    },
    {
      "cell_type": "code",
      "metadata": {},
      "source": [
        "target_key = 'leiden_1.0'\n",
        "sc.tl.rank_genes_groups(adata, groupby=target_key, method='wilcoxon', n_genes=200)\n",
        "df_w = sc.get.rank_genes_groups_df(adata, group=None)\n",
        "df_w.to_csv('../results/markers_wilcoxon.csv', index=False)\n",
        "sc.tl.rank_genes_groups(adata, groupby=target_key, method='logreg', n_genes=200)\n",
        "df_l = sc.get.rank_genes_groups_df(adata, group=None)\n",
        "df_l.to_csv('../results/markers_logreg.csv', index=False)\n"
      ]
    },
    {
      "cell_type": "markdown",
      "metadata": {},
      "source": [
        "## 7) Identify ROC cluster via overlap with Supplementary Table 3\n"
      ]
    },
    {
      "cell_type": "code",
      "metadata": {},
      "source": [
        "from src.utils import overlap_stats\n",
        "ref_path = '../data/supp_table3_genes.txt'  # one gene per line\n",
        "try:\n",
        "    ref_genes = [g.strip() for g in open(ref_path).read().splitlines() if g.strip()]\n",
        "except FileNotFoundError:\n",
        "    ref_genes = []\n",
        "    print('\ud83d\udd27 Add supp_table3_genes.txt under data/')\n",
        "def top_genes_per_cluster(df, topn=30):\n",
        "    out = {}\n",
        "    for g, sub in df.groupby('group'):\n",
        "        out[g] = list(sub.sort_values('scores', ascending=False).head(topn)['names'])\n",
        "    return out\n",
        "markers = top_genes_per_cluster(df_w, topn=30)\n",
        "overlaps = []\n",
        "for cl, genes in markers.items():\n",
        "    stats = overlap_stats(genes, ref_genes)\n",
        "    stats['cluster'] = cl\n",
        "    overlaps.append(stats)\n",
        "import pandas as pd\n",
        "overlaps = pd.DataFrame(overlaps).sort_values('jaccard', ascending=False)\n",
        "overlaps.to_csv('../results/roc_markers_overlap.csv', index=False)\n",
        "overlaps.head()\n"
      ]
    },
    {
      "cell_type": "markdown",
      "metadata": {},
      "source": [
        "## 8) Denoising: MAGIC (and optional MNN/DCA)\n"
      ]
    },
    {
      "cell_type": "code",
      "metadata": {},
      "source": [
        "import scanpy.external as sce\n",
        "adata_magic = adata.copy()\n",
        "sce.pp.magic(adata_magic)\n",
        "sc.tl.pca(adata_magic, n_comps=50)\n",
        "sc.pp.neighbors(adata_magic, n_neighbors=15, n_pcs=30)\n",
        "sc.tl.umap(adata_magic)\n",
        "sc.tl.leiden(adata_magic, resolution=1.0, key_added='leiden_magic')\n",
        "from src.utils import compute_silhouette\n",
        "sil_magic = compute_silhouette(adata_magic.obsm['X_umap'], adata_magic.obs['leiden_magic'])\n",
        "pd.Series({'silhouette_leiden_magic': sil_magic}).to_csv('../results/metrics_magic.csv')\n",
        "sil_magic\n"
      ]
    },
    {
      "cell_type": "markdown",
      "metadata": {},
      "source": [
        "## 9) Batch Integration over time: BBKNN & Harmony (requires `timepoint` column)\n"
      ]
    },
    {
      "cell_type": "code",
      "metadata": {},
      "source": [
        "if 'timepoint' in adata.obs:\n",
        "    # BBKNN\n",
        "    adata_bbk = adata.copy()\n",
        "    sc.pp.neighbors(adata_bbk, n_neighbors=15, n_pcs=30)\n",
        "    sce.pp.bbknn(adata_bbk, batch_key='timepoint')\n",
        "    sc.tl.umap(adata_bbk)\n",
        "    sc.tl.leiden(adata_bbk, key_added='leiden_bbk')\n",
        "    # Harmony\n",
        "    adata_har = adata.copy()\n",
        "    import harmonypy as hm\n",
        "    sc.tl.pca(adata_har, n_comps=50)\n",
        "    ho = hm.run_harmony(adata_har.obsm['X_pca'], adata_har.obs, 'timepoint')\n",
        "    adata_har.obsm['X_pca_harmony'] = ho.Z_corr.T\n",
        "    sc.pp.neighbors(adata_har, use_rep='X_pca_harmony')\n",
        "    sc.tl.umap(adata_har)\n",
        "    sc.tl.leiden(adata_har, key_added='leiden_harmony')\n",
        "else:\n",
        "    print('\ud83d\udd27 Add a timepoint column to adata.obs to run integration.')\n"
      ]
    },
    {
      "cell_type": "markdown",
      "metadata": {},
      "source": [
        "## 10) GO Enrichment (Enrichr via GSEApy)\n"
      ]
    },
    {
      "cell_type": "code",
      "metadata": {},
      "source": [
        "import gseapy as gp\n",
        "if len(overlaps)>0:\n",
        "    roc_cluster = str(overlaps.iloc[0]['cluster'])\n",
        "    roc_genes = markers[roc_cluster]\n",
        "    enr = gp.enrichr(gene_list=roc_genes, gene_sets=['GO_Biological_Process_2021'], organism='Xenopus laevis', outdir='../results/go_enrichr', cutoff=0.5)\n",
        "    enr.results.head()\n",
        "else:\n",
        "    print('\ud83d\udd27 Provide Supplementary Table 3 to run GO.')\n"
      ]
    },
    {
      "cell_type": "code",
      "metadata": {},
      "source": [
        "print('Pipeline complete. Saved outputs under ../results/.')\n"
      ]
    }
  ]
}